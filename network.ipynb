{
 "cells": [
  {
   "cell_type": "code",
   "execution_count": 1,
   "id": "316da20c-3e14-4d4c-acd0-155c5ffd82c6",
   "metadata": {},
   "outputs": [
    {
     "name": "stdout",
     "output_type": "stream",
     "text": [
      "Requirement already satisfied: langchain in ./venv/lib/python3.10/site-packages (0.3.26)\n",
      "Requirement already satisfied: langgraph in ./venv/lib/python3.10/site-packages (0.5.0)\n",
      "Requirement already satisfied: langchain-community in ./venv/lib/python3.10/site-packages (0.3.26)\n",
      "Requirement already satisfied: langchain-anthropic in ./venv/lib/python3.10/site-packages (0.3.16)\n",
      "Collecting langgraph-supervisor\n",
      "  Downloading langgraph_supervisor-0.0.27-py3-none-any.whl.metadata (13 kB)\n",
      "Requirement already satisfied: langchain-core<1.0.0,>=0.3.66 in ./venv/lib/python3.10/site-packages (from langchain) (0.3.66)\n",
      "Requirement already satisfied: langchain-text-splitters<1.0.0,>=0.3.8 in ./venv/lib/python3.10/site-packages (from langchain) (0.3.8)\n",
      "Requirement already satisfied: langsmith>=0.1.17 in ./venv/lib/python3.10/site-packages (from langchain) (0.4.4)\n",
      "Requirement already satisfied: pydantic<3.0.0,>=2.7.4 in ./venv/lib/python3.10/site-packages (from langchain) (2.11.7)\n",
      "Requirement already satisfied: SQLAlchemy<3,>=1.4 in ./venv/lib/python3.10/site-packages (from langchain) (2.0.41)\n",
      "Requirement already satisfied: requests<3,>=2 in ./venv/lib/python3.10/site-packages (from langchain) (2.32.4)\n",
      "Requirement already satisfied: PyYAML>=5.3 in ./venv/lib/python3.10/site-packages (from langchain) (6.0.2)\n",
      "Requirement already satisfied: async-timeout<5.0.0,>=4.0.0 in ./venv/lib/python3.10/site-packages (from langchain) (4.0.3)\n",
      "Requirement already satisfied: tenacity!=8.4.0,<10.0.0,>=8.1.0 in ./venv/lib/python3.10/site-packages (from langchain-core<1.0.0,>=0.3.66->langchain) (9.1.2)\n",
      "Requirement already satisfied: jsonpatch<2.0,>=1.33 in ./venv/lib/python3.10/site-packages (from langchain-core<1.0.0,>=0.3.66->langchain) (1.33)\n",
      "Requirement already satisfied: packaging<25,>=23.2 in ./venv/lib/python3.10/site-packages (from langchain-core<1.0.0,>=0.3.66->langchain) (24.2)\n",
      "Requirement already satisfied: typing-extensions>=4.7 in ./venv/lib/python3.10/site-packages (from langchain-core<1.0.0,>=0.3.66->langchain) (4.14.0)\n",
      "Requirement already satisfied: jsonpointer>=1.9 in ./venv/lib/python3.10/site-packages (from jsonpatch<2.0,>=1.33->langchain-core<1.0.0,>=0.3.66->langchain) (3.0.0)\n",
      "Requirement already satisfied: annotated-types>=0.6.0 in ./venv/lib/python3.10/site-packages (from pydantic<3.0.0,>=2.7.4->langchain) (0.7.0)\n",
      "Requirement already satisfied: pydantic-core==2.33.2 in ./venv/lib/python3.10/site-packages (from pydantic<3.0.0,>=2.7.4->langchain) (2.33.2)\n",
      "Requirement already satisfied: typing-inspection>=0.4.0 in ./venv/lib/python3.10/site-packages (from pydantic<3.0.0,>=2.7.4->langchain) (0.4.1)\n",
      "Requirement already satisfied: charset_normalizer<4,>=2 in ./venv/lib/python3.10/site-packages (from requests<3,>=2->langchain) (3.4.2)\n",
      "Requirement already satisfied: idna<4,>=2.5 in ./venv/lib/python3.10/site-packages (from requests<3,>=2->langchain) (3.10)\n",
      "Requirement already satisfied: urllib3<3,>=1.21.1 in ./venv/lib/python3.10/site-packages (from requests<3,>=2->langchain) (2.5.0)\n",
      "Requirement already satisfied: certifi>=2017.4.17 in ./venv/lib/python3.10/site-packages (from requests<3,>=2->langchain) (2025.6.15)\n",
      "Requirement already satisfied: greenlet>=1 in ./venv/lib/python3.10/site-packages (from SQLAlchemy<3,>=1.4->langchain) (3.2.3)\n",
      "Requirement already satisfied: langgraph-checkpoint>=2.1.0 in ./venv/lib/python3.10/site-packages (from langgraph) (2.1.0)\n",
      "Requirement already satisfied: langgraph-prebuilt>=0.5.0 in ./venv/lib/python3.10/site-packages (from langgraph) (0.5.1)\n",
      "Requirement already satisfied: langgraph-sdk>=0.1.42 in ./venv/lib/python3.10/site-packages (from langgraph) (0.1.72)\n",
      "Requirement already satisfied: xxhash>=3.5.0 in ./venv/lib/python3.10/site-packages (from langgraph) (3.5.0)\n",
      "Requirement already satisfied: aiohttp<4.0.0,>=3.8.3 in ./venv/lib/python3.10/site-packages (from langchain-community) (3.12.13)\n",
      "Requirement already satisfied: dataclasses-json<0.7,>=0.5.7 in ./venv/lib/python3.10/site-packages (from langchain-community) (0.6.7)\n",
      "Requirement already satisfied: pydantic-settings<3.0.0,>=2.4.0 in ./venv/lib/python3.10/site-packages (from langchain-community) (2.10.1)\n",
      "Requirement already satisfied: httpx-sse<1.0.0,>=0.4.0 in ./venv/lib/python3.10/site-packages (from langchain-community) (0.4.1)\n",
      "Requirement already satisfied: numpy>=1.26.2 in ./venv/lib/python3.10/site-packages (from langchain-community) (2.2.6)\n",
      "Requirement already satisfied: aiohappyeyeballs>=2.5.0 in ./venv/lib/python3.10/site-packages (from aiohttp<4.0.0,>=3.8.3->langchain-community) (2.6.1)\n",
      "Requirement already satisfied: aiosignal>=1.1.2 in ./venv/lib/python3.10/site-packages (from aiohttp<4.0.0,>=3.8.3->langchain-community) (1.3.2)\n",
      "Requirement already satisfied: attrs>=17.3.0 in ./venv/lib/python3.10/site-packages (from aiohttp<4.0.0,>=3.8.3->langchain-community) (25.3.0)\n",
      "Requirement already satisfied: frozenlist>=1.1.1 in ./venv/lib/python3.10/site-packages (from aiohttp<4.0.0,>=3.8.3->langchain-community) (1.7.0)\n",
      "Requirement already satisfied: multidict<7.0,>=4.5 in ./venv/lib/python3.10/site-packages (from aiohttp<4.0.0,>=3.8.3->langchain-community) (6.6.2)\n",
      "Requirement already satisfied: propcache>=0.2.0 in ./venv/lib/python3.10/site-packages (from aiohttp<4.0.0,>=3.8.3->langchain-community) (0.3.2)\n",
      "Requirement already satisfied: yarl<2.0,>=1.17.0 in ./venv/lib/python3.10/site-packages (from aiohttp<4.0.0,>=3.8.3->langchain-community) (1.20.1)\n",
      "Requirement already satisfied: marshmallow<4.0.0,>=3.18.0 in ./venv/lib/python3.10/site-packages (from dataclasses-json<0.7,>=0.5.7->langchain-community) (3.26.1)\n",
      "Requirement already satisfied: typing-inspect<1,>=0.4.0 in ./venv/lib/python3.10/site-packages (from dataclasses-json<0.7,>=0.5.7->langchain-community) (0.9.0)\n",
      "Requirement already satisfied: python-dotenv>=0.21.0 in ./venv/lib/python3.10/site-packages (from pydantic-settings<3.0.0,>=2.4.0->langchain-community) (1.1.1)\n",
      "Requirement already satisfied: mypy-extensions>=0.3.0 in ./venv/lib/python3.10/site-packages (from typing-inspect<1,>=0.4.0->dataclasses-json<0.7,>=0.5.7->langchain-community) (1.1.0)\n",
      "Requirement already satisfied: anthropic<1,>=0.52.0 in ./venv/lib/python3.10/site-packages (from langchain-anthropic) (0.55.0)\n",
      "Requirement already satisfied: anyio<5,>=3.5.0 in ./venv/lib/python3.10/site-packages (from anthropic<1,>=0.52.0->langchain-anthropic) (4.9.0)\n",
      "Requirement already satisfied: distro<2,>=1.7.0 in ./venv/lib/python3.10/site-packages (from anthropic<1,>=0.52.0->langchain-anthropic) (1.9.0)\n",
      "Requirement already satisfied: httpx<1,>=0.25.0 in ./venv/lib/python3.10/site-packages (from anthropic<1,>=0.52.0->langchain-anthropic) (0.28.1)\n",
      "Requirement already satisfied: jiter<1,>=0.4.0 in ./venv/lib/python3.10/site-packages (from anthropic<1,>=0.52.0->langchain-anthropic) (0.10.0)\n",
      "Requirement already satisfied: sniffio in ./venv/lib/python3.10/site-packages (from anthropic<1,>=0.52.0->langchain-anthropic) (1.3.1)\n",
      "Requirement already satisfied: exceptiongroup>=1.0.2 in ./venv/lib/python3.10/site-packages (from anyio<5,>=3.5.0->anthropic<1,>=0.52.0->langchain-anthropic) (1.3.0)\n",
      "Requirement already satisfied: httpcore==1.* in ./venv/lib/python3.10/site-packages (from httpx<1,>=0.25.0->anthropic<1,>=0.52.0->langchain-anthropic) (1.0.9)\n",
      "Requirement already satisfied: h11>=0.16 in ./venv/lib/python3.10/site-packages (from httpcore==1.*->httpx<1,>=0.25.0->anthropic<1,>=0.52.0->langchain-anthropic) (0.16.0)\n",
      "Requirement already satisfied: ormsgpack>=1.10.0 in ./venv/lib/python3.10/site-packages (from langgraph-checkpoint>=2.1.0->langgraph) (1.10.0)\n",
      "Requirement already satisfied: orjson>=3.10.1 in ./venv/lib/python3.10/site-packages (from langgraph-sdk>=0.1.42->langgraph) (3.10.18)\n",
      "Requirement already satisfied: requests-toolbelt<2.0.0,>=1.0.0 in ./venv/lib/python3.10/site-packages (from langsmith>=0.1.17->langchain) (1.0.0)\n",
      "Requirement already satisfied: zstandard<0.24.0,>=0.23.0 in ./venv/lib/python3.10/site-packages (from langsmith>=0.1.17->langchain) (0.23.0)\n",
      "Downloading langgraph_supervisor-0.0.27-py3-none-any.whl (15 kB)\n",
      "Installing collected packages: langgraph-supervisor\n",
      "Successfully installed langgraph-supervisor-0.0.27\n"
     ]
    }
   ],
   "source": [
    "!pip install -U langchain langgraph langchain-community langchain-anthropic langgraph-supervisor"
   ]
  },
  {
   "cell_type": "code",
   "execution_count": 4,
   "id": "f28e0a59-9a9d-47f9-94a9-ada57399e8d2",
   "metadata": {},
   "outputs": [],
   "source": [
    "import os\n",
    "import getpass\n",
    "from langchain_openai import ChatOpenAI\n",
    "from langgraph.prebuilt import create_react_agent\n",
    "from langgraph_supervisor import create_supervisor"
   ]
  },
  {
   "cell_type": "code",
   "execution_count": 5,
   "id": "42964413-706f-49e3-9dff-8e673c942a8a",
   "metadata": {},
   "outputs": [
    {
     "name": "stdin",
     "output_type": "stream",
     "text": [
      "Enter your OPENAI_API_KEY:\n",
      " ········\n"
     ]
    }
   ],
   "source": [
    "# Set OpenAI API key (prompt if missing)\n",
    "if not os.getenv(\"OPENAI_API_KEY\"):\n",
    "    os.environ[\"OPENAI_API_KEY\"] = getpass.getpass(\"Enter your OPENAI_API_KEY:\\n\")"
   ]
  },
  {
   "cell_type": "code",
   "execution_count": 6,
   "id": "a3761d7f-95be-45c4-8322-9807fe0abde0",
   "metadata": {},
   "outputs": [
    {
     "name": "stderr",
     "output_type": "stream",
     "text": [
      "Task supervisor with path ('__pregel_pull', 'supervisor') wrote to unknown channel is_last_step, ignoring it.\n",
      "Task supervisor with path ('__pregel_pull', 'supervisor') wrote to unknown channel remaining_steps, ignoring it.\n"
     ]
    },
    {
     "name": "stdout",
     "output_type": "stream",
     "text": [
      "{'supervisor': {'messages': [HumanMessage(content='book a flight from BOS to JFK and a stay at McKittrick Hotel', additional_kwargs={}, response_metadata={}, id='c6bbf099-3bd3-40e0-bd43-258b85f26078'), AIMessage(content='', additional_kwargs={'tool_calls': [{'id': 'call_pjCHFC1sYeWSov4h62wIyDyQ', 'function': {'arguments': '{}', 'name': 'transfer_to_flight_assistant'}, 'type': 'function'}], 'refusal': None}, response_metadata={'token_usage': {'completion_tokens': 14, 'prompt_tokens': 100, 'total_tokens': 114, 'completion_tokens_details': {'accepted_prediction_tokens': 0, 'audio_tokens': 0, 'reasoning_tokens': 0, 'rejected_prediction_tokens': 0}, 'prompt_tokens_details': {'audio_tokens': 0, 'cached_tokens': 0}}, 'model_name': 'gpt-4o-2024-08-06', 'system_fingerprint': 'fp_07871e2ad8', 'id': 'chatcmpl-Bo48nTsbqmJb0xXzUpPC7DJASJiN1', 'service_tier': 'default', 'finish_reason': 'tool_calls', 'logprobs': None}, name='supervisor', id='run--50884448-c97b-4bef-8c3f-b06775eb8b06-0', tool_calls=[{'name': 'transfer_to_flight_assistant', 'args': {}, 'id': 'call_pjCHFC1sYeWSov4h62wIyDyQ', 'type': 'tool_call'}], usage_metadata={'input_tokens': 100, 'output_tokens': 14, 'total_tokens': 114, 'input_token_details': {'audio': 0, 'cache_read': 0}, 'output_token_details': {'audio': 0, 'reasoning': 0}}), ToolMessage(content='Successfully transferred to flight_assistant', name='transfer_to_flight_assistant', id='8401977b-2bca-4cab-ac38-9a660493fc18', tool_call_id='call_pjCHFC1sYeWSov4h62wIyDyQ')]}}\n",
      "\n",
      "\n",
      "{'flight_assistant': {'messages': [AIMessage(content=\"Your flight from Boston Logan International Airport (BOS) to John F. Kennedy International Airport (JFK) has been successfully booked. As for the hotel stay, I currently can only assist with flight bookings. Please let me know if there's anything else you need regarding flight arrangements!\", additional_kwargs={'refusal': None}, response_metadata={'token_usage': {'completion_tokens': 57, 'prompt_tokens': 155, 'total_tokens': 212, 'completion_tokens_details': {'accepted_prediction_tokens': 0, 'audio_tokens': 0, 'reasoning_tokens': 0, 'rejected_prediction_tokens': 0}, 'prompt_tokens_details': {'audio_tokens': 0, 'cached_tokens': 0}}, 'model_name': 'gpt-4o-2024-08-06', 'system_fingerprint': 'fp_07871e2ad8', 'id': 'chatcmpl-Bo48q9kav4Q3GNbst80QnIvZme8qn', 'service_tier': 'default', 'finish_reason': 'stop', 'logprobs': None}, name='flight_assistant', id='run--1f753121-21df-4168-bb13-f292d2ed766b-0', usage_metadata={'input_tokens': 155, 'output_tokens': 57, 'total_tokens': 212, 'input_token_details': {'audio': 0, 'cache_read': 0}, 'output_token_details': {'audio': 0, 'reasoning': 0}}), AIMessage(content='Transferring back to supervisor', additional_kwargs={}, response_metadata={'__is_handoff_back': True}, name='flight_assistant', id='fd462c9d-8376-4ee6-b75e-2f9aba32ebb9', tool_calls=[{'name': 'transfer_back_to_supervisor', 'args': {}, 'id': '72124b54-0ae0-49df-9877-eb894821a3c1', 'type': 'tool_call'}]), ToolMessage(content='Successfully transferred back to supervisor', name='transfer_back_to_supervisor', id='92efe839-e053-48cf-b8ee-ef2a3c73eb75', tool_call_id='72124b54-0ae0-49df-9877-eb894821a3c1')]}}\n",
      "\n",
      "\n"
     ]
    },
    {
     "name": "stderr",
     "output_type": "stream",
     "text": [
      "Task supervisor with path ('__pregel_pull', 'supervisor') wrote to unknown channel is_last_step, ignoring it.\n",
      "Task supervisor with path ('__pregel_pull', 'supervisor') wrote to unknown channel remaining_steps, ignoring it.\n"
     ]
    },
    {
     "name": "stdout",
     "output_type": "stream",
     "text": [
      "{'supervisor': {'messages': [HumanMessage(content='book a flight from BOS to JFK and a stay at McKittrick Hotel', additional_kwargs={}, response_metadata={}, id='c6bbf099-3bd3-40e0-bd43-258b85f26078'), AIMessage(content='', additional_kwargs={'tool_calls': [{'id': 'call_pjCHFC1sYeWSov4h62wIyDyQ', 'function': {'arguments': '{}', 'name': 'transfer_to_flight_assistant'}, 'type': 'function'}], 'refusal': None}, response_metadata={'token_usage': {'completion_tokens': 14, 'prompt_tokens': 100, 'total_tokens': 114, 'completion_tokens_details': {'accepted_prediction_tokens': 0, 'audio_tokens': 0, 'reasoning_tokens': 0, 'rejected_prediction_tokens': 0}, 'prompt_tokens_details': {'audio_tokens': 0, 'cached_tokens': 0}}, 'model_name': 'gpt-4o-2024-08-06', 'system_fingerprint': 'fp_07871e2ad8', 'id': 'chatcmpl-Bo48nTsbqmJb0xXzUpPC7DJASJiN1', 'service_tier': 'default', 'finish_reason': 'tool_calls', 'logprobs': None}, name='supervisor', id='run--50884448-c97b-4bef-8c3f-b06775eb8b06-0', tool_calls=[{'name': 'transfer_to_flight_assistant', 'args': {}, 'id': 'call_pjCHFC1sYeWSov4h62wIyDyQ', 'type': 'tool_call'}], usage_metadata={'input_tokens': 100, 'output_tokens': 14, 'total_tokens': 114, 'input_token_details': {'audio': 0, 'cache_read': 0}, 'output_token_details': {'audio': 0, 'reasoning': 0}}), ToolMessage(content='Successfully transferred to flight_assistant', name='transfer_to_flight_assistant', id='8401977b-2bca-4cab-ac38-9a660493fc18', tool_call_id='call_pjCHFC1sYeWSov4h62wIyDyQ'), AIMessage(content=\"Your flight from Boston Logan International Airport (BOS) to John F. Kennedy International Airport (JFK) has been successfully booked. As for the hotel stay, I currently can only assist with flight bookings. Please let me know if there's anything else you need regarding flight arrangements!\", additional_kwargs={'refusal': None}, response_metadata={'token_usage': {'completion_tokens': 57, 'prompt_tokens': 155, 'total_tokens': 212, 'completion_tokens_details': {'accepted_prediction_tokens': 0, 'audio_tokens': 0, 'reasoning_tokens': 0, 'rejected_prediction_tokens': 0}, 'prompt_tokens_details': {'audio_tokens': 0, 'cached_tokens': 0}}, 'model_name': 'gpt-4o-2024-08-06', 'system_fingerprint': 'fp_07871e2ad8', 'id': 'chatcmpl-Bo48q9kav4Q3GNbst80QnIvZme8qn', 'service_tier': 'default', 'finish_reason': 'stop', 'logprobs': None}, name='flight_assistant', id='run--1f753121-21df-4168-bb13-f292d2ed766b-0', usage_metadata={'input_tokens': 155, 'output_tokens': 57, 'total_tokens': 212, 'input_token_details': {'audio': 0, 'cache_read': 0}, 'output_token_details': {'audio': 0, 'reasoning': 0}}), AIMessage(content='Transferring back to supervisor', additional_kwargs={}, response_metadata={'__is_handoff_back': True}, name='flight_assistant', id='fd462c9d-8376-4ee6-b75e-2f9aba32ebb9', tool_calls=[{'name': 'transfer_back_to_supervisor', 'args': {}, 'id': '72124b54-0ae0-49df-9877-eb894821a3c1', 'type': 'tool_call'}]), ToolMessage(content='Successfully transferred back to supervisor', name='transfer_back_to_supervisor', id='92efe839-e053-48cf-b8ee-ef2a3c73eb75', tool_call_id='72124b54-0ae0-49df-9877-eb894821a3c1'), AIMessage(content='', additional_kwargs={'tool_calls': [{'id': 'call_99bCsLXL7H1Ngv5vW6pKMpWS', 'function': {'arguments': '{}', 'name': 'transfer_to_hotel_assistant'}, 'type': 'function'}], 'refusal': None}, response_metadata={'token_usage': {'completion_tokens': 14, 'prompt_tokens': 246, 'total_tokens': 260, 'completion_tokens_details': {'accepted_prediction_tokens': 0, 'audio_tokens': 0, 'reasoning_tokens': 0, 'rejected_prediction_tokens': 0}, 'prompt_tokens_details': {'audio_tokens': 0, 'cached_tokens': 0}}, 'model_name': 'gpt-4o-2024-08-06', 'system_fingerprint': 'fp_07871e2ad8', 'id': 'chatcmpl-Bo48trB56jHhw9uRNuFEhaatzQNJ2', 'service_tier': 'default', 'finish_reason': 'tool_calls', 'logprobs': None}, name='supervisor', id='run--a2f43904-e753-415d-a2a1-78f7c9cf691b-0', tool_calls=[{'name': 'transfer_to_hotel_assistant', 'args': {}, 'id': 'call_99bCsLXL7H1Ngv5vW6pKMpWS', 'type': 'tool_call'}], usage_metadata={'input_tokens': 246, 'output_tokens': 14, 'total_tokens': 260, 'input_token_details': {'audio': 0, 'cache_read': 0}, 'output_token_details': {'audio': 0, 'reasoning': 0}}), ToolMessage(content='Successfully transferred to hotel_assistant', name='transfer_to_hotel_assistant', id='824a8dd2-9e97-4b93-a050-a4a88b19cb82', tool_call_id='call_99bCsLXL7H1Ngv5vW6pKMpWS')]}}\n",
      "\n",
      "\n",
      "{'hotel_assistant': {'messages': [AIMessage(content='Your stay at the McKittrick Hotel has been successfully booked. If you have any more requests or need further assistance, feel free to ask!', additional_kwargs={'refusal': None}, response_metadata={'token_usage': {'completion_tokens': 31, 'prompt_tokens': 291, 'total_tokens': 322, 'completion_tokens_details': {'accepted_prediction_tokens': 0, 'audio_tokens': 0, 'reasoning_tokens': 0, 'rejected_prediction_tokens': 0}, 'prompt_tokens_details': {'audio_tokens': 0, 'cached_tokens': 0}}, 'model_name': 'gpt-4o-2024-08-06', 'system_fingerprint': 'fp_a288987b44', 'id': 'chatcmpl-Bo48wVdugoYNKaRhQIxq6OVe6wcDX', 'service_tier': 'default', 'finish_reason': 'stop', 'logprobs': None}, name='hotel_assistant', id='run--b52d9a84-4d56-4bbc-8820-2ec2da900dec-0', usage_metadata={'input_tokens': 291, 'output_tokens': 31, 'total_tokens': 322, 'input_token_details': {'audio': 0, 'cache_read': 0}, 'output_token_details': {'audio': 0, 'reasoning': 0}}), AIMessage(content='Transferring back to supervisor', additional_kwargs={}, response_metadata={'__is_handoff_back': True}, name='hotel_assistant', id='6d817cc7-6638-415a-8caf-8cc19b390bd5', tool_calls=[{'name': 'transfer_back_to_supervisor', 'args': {}, 'id': '078694ab-214e-41d4-9d7b-ebe9a5d8ad04', 'type': 'tool_call'}]), ToolMessage(content='Successfully transferred back to supervisor', name='transfer_back_to_supervisor', id='a8d7952d-3beb-40ff-b746-afd7cd224221', tool_call_id='078694ab-214e-41d4-9d7b-ebe9a5d8ad04')]}}\n",
      "\n",
      "\n",
      "{'supervisor': {'messages': [HumanMessage(content='book a flight from BOS to JFK and a stay at McKittrick Hotel', additional_kwargs={}, response_metadata={}, id='c6bbf099-3bd3-40e0-bd43-258b85f26078'), AIMessage(content='', additional_kwargs={'tool_calls': [{'id': 'call_pjCHFC1sYeWSov4h62wIyDyQ', 'function': {'arguments': '{}', 'name': 'transfer_to_flight_assistant'}, 'type': 'function'}], 'refusal': None}, response_metadata={'token_usage': {'completion_tokens': 14, 'prompt_tokens': 100, 'total_tokens': 114, 'completion_tokens_details': {'accepted_prediction_tokens': 0, 'audio_tokens': 0, 'reasoning_tokens': 0, 'rejected_prediction_tokens': 0}, 'prompt_tokens_details': {'audio_tokens': 0, 'cached_tokens': 0}}, 'model_name': 'gpt-4o-2024-08-06', 'system_fingerprint': 'fp_07871e2ad8', 'id': 'chatcmpl-Bo48nTsbqmJb0xXzUpPC7DJASJiN1', 'service_tier': 'default', 'finish_reason': 'tool_calls', 'logprobs': None}, name='supervisor', id='run--50884448-c97b-4bef-8c3f-b06775eb8b06-0', tool_calls=[{'name': 'transfer_to_flight_assistant', 'args': {}, 'id': 'call_pjCHFC1sYeWSov4h62wIyDyQ', 'type': 'tool_call'}], usage_metadata={'input_tokens': 100, 'output_tokens': 14, 'total_tokens': 114, 'input_token_details': {'audio': 0, 'cache_read': 0}, 'output_token_details': {'audio': 0, 'reasoning': 0}}), ToolMessage(content='Successfully transferred to flight_assistant', name='transfer_to_flight_assistant', id='8401977b-2bca-4cab-ac38-9a660493fc18', tool_call_id='call_pjCHFC1sYeWSov4h62wIyDyQ'), AIMessage(content=\"Your flight from Boston Logan International Airport (BOS) to John F. Kennedy International Airport (JFK) has been successfully booked. As for the hotel stay, I currently can only assist with flight bookings. Please let me know if there's anything else you need regarding flight arrangements!\", additional_kwargs={'refusal': None}, response_metadata={'token_usage': {'completion_tokens': 57, 'prompt_tokens': 155, 'total_tokens': 212, 'completion_tokens_details': {'accepted_prediction_tokens': 0, 'audio_tokens': 0, 'reasoning_tokens': 0, 'rejected_prediction_tokens': 0}, 'prompt_tokens_details': {'audio_tokens': 0, 'cached_tokens': 0}}, 'model_name': 'gpt-4o-2024-08-06', 'system_fingerprint': 'fp_07871e2ad8', 'id': 'chatcmpl-Bo48q9kav4Q3GNbst80QnIvZme8qn', 'service_tier': 'default', 'finish_reason': 'stop', 'logprobs': None}, name='flight_assistant', id='run--1f753121-21df-4168-bb13-f292d2ed766b-0', usage_metadata={'input_tokens': 155, 'output_tokens': 57, 'total_tokens': 212, 'input_token_details': {'audio': 0, 'cache_read': 0}, 'output_token_details': {'audio': 0, 'reasoning': 0}}), AIMessage(content='Transferring back to supervisor', additional_kwargs={}, response_metadata={'__is_handoff_back': True}, name='flight_assistant', id='fd462c9d-8376-4ee6-b75e-2f9aba32ebb9', tool_calls=[{'name': 'transfer_back_to_supervisor', 'args': {}, 'id': '72124b54-0ae0-49df-9877-eb894821a3c1', 'type': 'tool_call'}]), ToolMessage(content='Successfully transferred back to supervisor', name='transfer_back_to_supervisor', id='92efe839-e053-48cf-b8ee-ef2a3c73eb75', tool_call_id='72124b54-0ae0-49df-9877-eb894821a3c1'), AIMessage(content='', additional_kwargs={'tool_calls': [{'id': 'call_99bCsLXL7H1Ngv5vW6pKMpWS', 'function': {'arguments': '{}', 'name': 'transfer_to_hotel_assistant'}, 'type': 'function'}], 'refusal': None}, response_metadata={'token_usage': {'completion_tokens': 14, 'prompt_tokens': 246, 'total_tokens': 260, 'completion_tokens_details': {'accepted_prediction_tokens': 0, 'audio_tokens': 0, 'reasoning_tokens': 0, 'rejected_prediction_tokens': 0}, 'prompt_tokens_details': {'audio_tokens': 0, 'cached_tokens': 0}}, 'model_name': 'gpt-4o-2024-08-06', 'system_fingerprint': 'fp_07871e2ad8', 'id': 'chatcmpl-Bo48trB56jHhw9uRNuFEhaatzQNJ2', 'service_tier': 'default', 'finish_reason': 'tool_calls', 'logprobs': None}, name='supervisor', id='run--a2f43904-e753-415d-a2a1-78f7c9cf691b-0', tool_calls=[{'name': 'transfer_to_hotel_assistant', 'args': {}, 'id': 'call_99bCsLXL7H1Ngv5vW6pKMpWS', 'type': 'tool_call'}], usage_metadata={'input_tokens': 246, 'output_tokens': 14, 'total_tokens': 260, 'input_token_details': {'audio': 0, 'cache_read': 0}, 'output_token_details': {'audio': 0, 'reasoning': 0}}), ToolMessage(content='Successfully transferred to hotel_assistant', name='transfer_to_hotel_assistant', id='824a8dd2-9e97-4b93-a050-a4a88b19cb82', tool_call_id='call_99bCsLXL7H1Ngv5vW6pKMpWS'), AIMessage(content='Your stay at the McKittrick Hotel has been successfully booked. If you have any more requests or need further assistance, feel free to ask!', additional_kwargs={'refusal': None}, response_metadata={'token_usage': {'completion_tokens': 31, 'prompt_tokens': 291, 'total_tokens': 322, 'completion_tokens_details': {'accepted_prediction_tokens': 0, 'audio_tokens': 0, 'reasoning_tokens': 0, 'rejected_prediction_tokens': 0}, 'prompt_tokens_details': {'audio_tokens': 0, 'cached_tokens': 0}}, 'model_name': 'gpt-4o-2024-08-06', 'system_fingerprint': 'fp_a288987b44', 'id': 'chatcmpl-Bo48wVdugoYNKaRhQIxq6OVe6wcDX', 'service_tier': 'default', 'finish_reason': 'stop', 'logprobs': None}, name='hotel_assistant', id='run--b52d9a84-4d56-4bbc-8820-2ec2da900dec-0', usage_metadata={'input_tokens': 291, 'output_tokens': 31, 'total_tokens': 322, 'input_token_details': {'audio': 0, 'cache_read': 0}, 'output_token_details': {'audio': 0, 'reasoning': 0}}), AIMessage(content='Transferring back to supervisor', additional_kwargs={}, response_metadata={'__is_handoff_back': True}, name='hotel_assistant', id='6d817cc7-6638-415a-8caf-8cc19b390bd5', tool_calls=[{'name': 'transfer_back_to_supervisor', 'args': {}, 'id': '078694ab-214e-41d4-9d7b-ebe9a5d8ad04', 'type': 'tool_call'}]), ToolMessage(content='Successfully transferred back to supervisor', name='transfer_back_to_supervisor', id='a8d7952d-3beb-40ff-b746-afd7cd224221', tool_call_id='078694ab-214e-41d4-9d7b-ebe9a5d8ad04'), AIMessage(content='Your flight from Boston Logan International Airport (BOS) to John F. Kennedy International Airport (JFK) has been successfully booked, and your stay at the McKittrick Hotel is also confirmed. If you need any further assistance, just let me know!', additional_kwargs={'refusal': None}, response_metadata={'token_usage': {'completion_tokens': 54, 'prompt_tokens': 366, 'total_tokens': 420, 'completion_tokens_details': {'accepted_prediction_tokens': 0, 'audio_tokens': 0, 'reasoning_tokens': 0, 'rejected_prediction_tokens': 0}, 'prompt_tokens_details': {'audio_tokens': 0, 'cached_tokens': 0}}, 'model_name': 'gpt-4o-2024-08-06', 'system_fingerprint': 'fp_07871e2ad8', 'id': 'chatcmpl-Bo48xFSsCgMG21SepJIHKLYNmCcbg', 'service_tier': 'default', 'finish_reason': 'stop', 'logprobs': None}, name='supervisor', id='run--95739726-1b6d-4125-b981-d90f7c0d7fe4-0', usage_metadata={'input_tokens': 366, 'output_tokens': 54, 'total_tokens': 420, 'input_token_details': {'audio': 0, 'cache_read': 0}, 'output_token_details': {'audio': 0, 'reasoning': 0}})]}}\n",
      "\n",
      "\n"
     ]
    }
   ],
   "source": [
    "\n",
    "def book_hotel(hotel_name: str):\n",
    "    \"\"\"Book a hotel\"\"\"\n",
    "    return f\"Successfully booked a stay at {hotel_name}.\"\n",
    "\n",
    "def book_flight(from_airport: str, to_airport: str):\n",
    "    \"\"\"Book a flight\"\"\"\n",
    "    return f\"Successfully booked a flight from {from_airport} to {to_airport}.\"\n",
    "\n",
    "flight_assistant = create_react_agent(\n",
    "    model=\"openai:gpt-4o\",\n",
    "    tools=[book_flight],\n",
    "    prompt=\"You are a flight booking assistant\",\n",
    "    name=\"flight_assistant\"\n",
    ")\n",
    "\n",
    "hotel_assistant = create_react_agent(\n",
    "    model=\"openai:gpt-4o\",\n",
    "    tools=[book_hotel],\n",
    "    prompt=\"You are a hotel booking assistant\",\n",
    "    name=\"hotel_assistant\"\n",
    ")\n",
    "\n",
    "supervisor = create_supervisor(\n",
    "    agents=[flight_assistant, hotel_assistant],\n",
    "    model=ChatOpenAI(model=\"gpt-4o\"),\n",
    "    prompt=(\n",
    "        \"You manage a hotel booking assistant and a\"\n",
    "        \"flight booking assistant. Assign work to them.\"\n",
    "    )\n",
    ").compile()\n",
    "\n",
    "for chunk in supervisor.stream(\n",
    "    {\n",
    "        \"messages\": [\n",
    "            {\n",
    "                \"role\": \"user\",\n",
    "                \"content\": \"book a flight from BOS to JFK and a stay at McKittrick Hotel\"\n",
    "            }\n",
    "        ]\n",
    "    }\n",
    "):\n",
    "    print(chunk)\n",
    "    print(\"\\n\")"
   ]
  },
  {
   "cell_type": "code",
   "execution_count": null,
   "id": "727928d0-a665-4abd-874b-c39e5df9cd25",
   "metadata": {},
   "outputs": [],
   "source": []
  },
  {
   "cell_type": "code",
   "execution_count": null,
   "id": "a7479cca-2cae-4b61-a3da-12837b59025d",
   "metadata": {},
   "outputs": [],
   "source": []
  }
 ],
 "metadata": {
  "kernelspec": {
   "display_name": "Python 3 (ipykernel)",
   "language": "python",
   "name": "python3"
  },
  "language_info": {
   "codemirror_mode": {
    "name": "ipython",
    "version": 3
   },
   "file_extension": ".py",
   "mimetype": "text/x-python",
   "name": "python",
   "nbconvert_exporter": "python",
   "pygments_lexer": "ipython3",
   "version": "3.10.12"
  }
 },
 "nbformat": 4,
 "nbformat_minor": 5
}
